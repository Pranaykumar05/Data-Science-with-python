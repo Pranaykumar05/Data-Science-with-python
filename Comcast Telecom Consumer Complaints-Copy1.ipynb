{
 "cells": [
  {
   "cell_type": "code",
   "execution_count": 1,
   "id": "54b9ca1b",
   "metadata": {},
   "outputs": [],
   "source": [
    "import pandas as pd\n",
    "import numpy as np\n",
    "import matplotlib.pyplot as plt\n",
    "import seaborn as sns\n",
    "%matplotlib inline"
   ]
  },
  {
   "cell_type": "code",
   "execution_count": 2,
   "id": "76256489",
   "metadata": {},
   "outputs": [],
   "source": [
    "df = pd.read_csv('Comcast_telecom_complaints_data.csv')"
   ]
  },
  {
   "cell_type": "code",
   "execution_count": 3,
   "id": "34c0f654",
   "metadata": {},
   "outputs": [
    {
     "data": {
      "text/html": [
       "<div>\n",
       "<style scoped>\n",
       "    .dataframe tbody tr th:only-of-type {\n",
       "        vertical-align: middle;\n",
       "    }\n",
       "\n",
       "    .dataframe tbody tr th {\n",
       "        vertical-align: top;\n",
       "    }\n",
       "\n",
       "    .dataframe thead th {\n",
       "        text-align: right;\n",
       "    }\n",
       "</style>\n",
       "<table border=\"1\" class=\"dataframe\">\n",
       "  <thead>\n",
       "    <tr style=\"text-align: right;\">\n",
       "      <th></th>\n",
       "      <th>Ticket #</th>\n",
       "      <th>Customer Complaint</th>\n",
       "      <th>Date</th>\n",
       "      <th>Date_month_year</th>\n",
       "      <th>Time</th>\n",
       "      <th>Received Via</th>\n",
       "      <th>City</th>\n",
       "      <th>State</th>\n",
       "      <th>Zip code</th>\n",
       "      <th>Status</th>\n",
       "      <th>Filing on Behalf of Someone</th>\n",
       "    </tr>\n",
       "  </thead>\n",
       "  <tbody>\n",
       "    <tr>\n",
       "      <th>0</th>\n",
       "      <td>250635</td>\n",
       "      <td>Comcast Cable Internet Speeds</td>\n",
       "      <td>22-04-15</td>\n",
       "      <td>22-Apr-15</td>\n",
       "      <td>3:53:50 PM</td>\n",
       "      <td>Customer Care Call</td>\n",
       "      <td>Abingdon</td>\n",
       "      <td>Maryland</td>\n",
       "      <td>21009</td>\n",
       "      <td>Closed</td>\n",
       "      <td>No</td>\n",
       "    </tr>\n",
       "    <tr>\n",
       "      <th>1</th>\n",
       "      <td>223441</td>\n",
       "      <td>Payment disappear - service got disconnected</td>\n",
       "      <td>04-08-15</td>\n",
       "      <td>04-Aug-15</td>\n",
       "      <td>10:22:56 AM</td>\n",
       "      <td>Internet</td>\n",
       "      <td>Acworth</td>\n",
       "      <td>Georgia</td>\n",
       "      <td>30102</td>\n",
       "      <td>Closed</td>\n",
       "      <td>No</td>\n",
       "    </tr>\n",
       "    <tr>\n",
       "      <th>2</th>\n",
       "      <td>242732</td>\n",
       "      <td>Speed and Service</td>\n",
       "      <td>18-04-15</td>\n",
       "      <td>18-Apr-15</td>\n",
       "      <td>9:55:47 AM</td>\n",
       "      <td>Internet</td>\n",
       "      <td>Acworth</td>\n",
       "      <td>Georgia</td>\n",
       "      <td>30101</td>\n",
       "      <td>Closed</td>\n",
       "      <td>Yes</td>\n",
       "    </tr>\n",
       "    <tr>\n",
       "      <th>3</th>\n",
       "      <td>277946</td>\n",
       "      <td>Comcast Imposed a New Usage Cap of 300GB that ...</td>\n",
       "      <td>05-07-15</td>\n",
       "      <td>05-Jul-15</td>\n",
       "      <td>11:59:35 AM</td>\n",
       "      <td>Internet</td>\n",
       "      <td>Acworth</td>\n",
       "      <td>Georgia</td>\n",
       "      <td>30101</td>\n",
       "      <td>Open</td>\n",
       "      <td>Yes</td>\n",
       "    </tr>\n",
       "    <tr>\n",
       "      <th>4</th>\n",
       "      <td>307175</td>\n",
       "      <td>Comcast not working and no service to boot</td>\n",
       "      <td>26-05-15</td>\n",
       "      <td>26-May-15</td>\n",
       "      <td>1:25:26 PM</td>\n",
       "      <td>Internet</td>\n",
       "      <td>Acworth</td>\n",
       "      <td>Georgia</td>\n",
       "      <td>30101</td>\n",
       "      <td>Solved</td>\n",
       "      <td>No</td>\n",
       "    </tr>\n",
       "  </tbody>\n",
       "</table>\n",
       "</div>"
      ],
      "text/plain": [
       "  Ticket #                                 Customer Complaint      Date  \\\n",
       "0   250635                      Comcast Cable Internet Speeds  22-04-15   \n",
       "1   223441       Payment disappear - service got disconnected  04-08-15   \n",
       "2   242732                                  Speed and Service  18-04-15   \n",
       "3   277946  Comcast Imposed a New Usage Cap of 300GB that ...  05-07-15   \n",
       "4   307175         Comcast not working and no service to boot  26-05-15   \n",
       "\n",
       "  Date_month_year         Time        Received Via      City     State  \\\n",
       "0       22-Apr-15   3:53:50 PM  Customer Care Call  Abingdon  Maryland   \n",
       "1       04-Aug-15  10:22:56 AM            Internet   Acworth   Georgia   \n",
       "2       18-Apr-15   9:55:47 AM            Internet   Acworth   Georgia   \n",
       "3       05-Jul-15  11:59:35 AM            Internet   Acworth   Georgia   \n",
       "4       26-May-15   1:25:26 PM            Internet   Acworth   Georgia   \n",
       "\n",
       "   Zip code  Status Filing on Behalf of Someone  \n",
       "0     21009  Closed                          No  \n",
       "1     30102  Closed                          No  \n",
       "2     30101  Closed                         Yes  \n",
       "3     30101    Open                         Yes  \n",
       "4     30101  Solved                          No  "
      ]
     },
     "execution_count": 3,
     "metadata": {},
     "output_type": "execute_result"
    }
   ],
   "source": [
    "df.head(5)"
   ]
  },
  {
   "cell_type": "code",
   "execution_count": 4,
   "id": "f19c7565",
   "metadata": {},
   "outputs": [
    {
     "name": "stdout",
     "output_type": "stream",
     "text": [
      "Ticket #                       0\n",
      "Customer Complaint             0\n",
      "Date                           0\n",
      "Date_month_year                0\n",
      "Time                           0\n",
      "Received Via                   0\n",
      "City                           0\n",
      "State                          0\n",
      "Zip code                       0\n",
      "Status                         0\n",
      "Filing on Behalf of Someone    0\n",
      "dtype: int64\n"
     ]
    }
   ],
   "source": [
    "print(df.isnull().sum())"
   ]
  },
  {
   "cell_type": "markdown",
   "id": "9f25f90f",
   "metadata": {},
   "source": [
    "# There are no nan values in Dataset"
   ]
  },
  {
   "cell_type": "code",
   "execution_count": 5,
   "id": "25c48509",
   "metadata": {
    "scrolled": true
   },
   "outputs": [
    {
     "data": {
      "text/plain": [
       "<bound method NDFrame.describe of      Ticket #                                 Customer Complaint      Date  \\\n",
       "0      250635                      Comcast Cable Internet Speeds  22-04-15   \n",
       "1      223441       Payment disappear - service got disconnected  04-08-15   \n",
       "2      242732                                  Speed and Service  18-04-15   \n",
       "3      277946  Comcast Imposed a New Usage Cap of 300GB that ...  05-07-15   \n",
       "4      307175         Comcast not working and no service to boot  26-05-15   \n",
       "...       ...                                                ...       ...   \n",
       "2219   213550                               Service Availability  04-02-15   \n",
       "2220   318775         Comcast Monthly Billing for Returned Modem  06-02-15   \n",
       "2221   331188                            complaint about comcast  06-09-15   \n",
       "2222   360489             Extremely unsatisfied Comcast customer  23-06-15   \n",
       "2223   363614               Comcast, Ypsilanti MI Internet Speed  24-06-15   \n",
       "\n",
       "     Date_month_year         Time        Received Via        City     State  \\\n",
       "0          22-Apr-15   3:53:50 PM  Customer Care Call    Abingdon  Maryland   \n",
       "1          04-Aug-15  10:22:56 AM            Internet     Acworth   Georgia   \n",
       "2          18-Apr-15   9:55:47 AM            Internet     Acworth   Georgia   \n",
       "3          05-Jul-15  11:59:35 AM            Internet     Acworth   Georgia   \n",
       "4          26-May-15   1:25:26 PM            Internet     Acworth   Georgia   \n",
       "...              ...          ...                 ...         ...       ...   \n",
       "2219       04-Feb-15   9:13:18 AM  Customer Care Call  Youngstown   Florida   \n",
       "2220       06-Feb-15   1:24:39 PM  Customer Care Call   Ypsilanti  Michigan   \n",
       "2221       06-Sep-15   5:28:41 PM            Internet   Ypsilanti  Michigan   \n",
       "2222       23-Jun-15  11:13:30 PM  Customer Care Call   Ypsilanti  Michigan   \n",
       "2223       24-Jun-15  10:28:33 PM  Customer Care Call   Ypsilanti  Michigan   \n",
       "\n",
       "      Zip code  Status Filing on Behalf of Someone  \n",
       "0        21009  Closed                          No  \n",
       "1        30102  Closed                          No  \n",
       "2        30101  Closed                         Yes  \n",
       "3        30101    Open                         Yes  \n",
       "4        30101  Solved                          No  \n",
       "...        ...     ...                         ...  \n",
       "2219     32466  Closed                          No  \n",
       "2220     48197  Solved                          No  \n",
       "2221     48197  Solved                          No  \n",
       "2222     48197  Solved                          No  \n",
       "2223     48198    Open                         Yes  \n",
       "\n",
       "[2224 rows x 11 columns]>"
      ]
     },
     "execution_count": 5,
     "metadata": {},
     "output_type": "execute_result"
    }
   ],
   "source": [
    "df.describe"
   ]
  },
  {
   "cell_type": "code",
   "execution_count": 6,
   "id": "b6df0b18",
   "metadata": {},
   "outputs": [
    {
     "data": {
      "text/plain": [
       "(2224, 11)"
      ]
     },
     "execution_count": 6,
     "metadata": {},
     "output_type": "execute_result"
    }
   ],
   "source": [
    "df.shape"
   ]
  },
  {
   "cell_type": "code",
   "execution_count": 8,
   "id": "77c222b9",
   "metadata": {
    "scrolled": true
   },
   "outputs": [
    {
     "data": {
      "text/html": [
       "<div>\n",
       "<style scoped>\n",
       "    .dataframe tbody tr th:only-of-type {\n",
       "        vertical-align: middle;\n",
       "    }\n",
       "\n",
       "    .dataframe tbody tr th {\n",
       "        vertical-align: top;\n",
       "    }\n",
       "\n",
       "    .dataframe thead th {\n",
       "        text-align: right;\n",
       "    }\n",
       "</style>\n",
       "<table border=\"1\" class=\"dataframe\">\n",
       "  <thead>\n",
       "    <tr style=\"text-align: right;\">\n",
       "      <th></th>\n",
       "      <th>Customer Complaint</th>\n",
       "      <th>Date</th>\n",
       "      <th>Date_month_year</th>\n",
       "      <th>Received Via</th>\n",
       "      <th>City</th>\n",
       "      <th>State</th>\n",
       "      <th>Zip code</th>\n",
       "      <th>Status</th>\n",
       "      <th>Filing on Behalf of Someone</th>\n",
       "    </tr>\n",
       "  </thead>\n",
       "  <tbody>\n",
       "    <tr>\n",
       "      <th>0</th>\n",
       "      <td>Comcast Cable Internet Speeds</td>\n",
       "      <td>22-04-15</td>\n",
       "      <td>22-Apr-15</td>\n",
       "      <td>Customer Care Call</td>\n",
       "      <td>Abingdon</td>\n",
       "      <td>Maryland</td>\n",
       "      <td>21009</td>\n",
       "      <td>Closed</td>\n",
       "      <td>No</td>\n",
       "    </tr>\n",
       "    <tr>\n",
       "      <th>1</th>\n",
       "      <td>Payment disappear - service got disconnected</td>\n",
       "      <td>04-08-15</td>\n",
       "      <td>04-Aug-15</td>\n",
       "      <td>Internet</td>\n",
       "      <td>Acworth</td>\n",
       "      <td>Georgia</td>\n",
       "      <td>30102</td>\n",
       "      <td>Closed</td>\n",
       "      <td>No</td>\n",
       "    </tr>\n",
       "    <tr>\n",
       "      <th>2</th>\n",
       "      <td>Speed and Service</td>\n",
       "      <td>18-04-15</td>\n",
       "      <td>18-Apr-15</td>\n",
       "      <td>Internet</td>\n",
       "      <td>Acworth</td>\n",
       "      <td>Georgia</td>\n",
       "      <td>30101</td>\n",
       "      <td>Closed</td>\n",
       "      <td>Yes</td>\n",
       "    </tr>\n",
       "    <tr>\n",
       "      <th>3</th>\n",
       "      <td>Comcast Imposed a New Usage Cap of 300GB that ...</td>\n",
       "      <td>05-07-15</td>\n",
       "      <td>05-Jul-15</td>\n",
       "      <td>Internet</td>\n",
       "      <td>Acworth</td>\n",
       "      <td>Georgia</td>\n",
       "      <td>30101</td>\n",
       "      <td>Open</td>\n",
       "      <td>Yes</td>\n",
       "    </tr>\n",
       "    <tr>\n",
       "      <th>4</th>\n",
       "      <td>Comcast not working and no service to boot</td>\n",
       "      <td>26-05-15</td>\n",
       "      <td>26-May-15</td>\n",
       "      <td>Internet</td>\n",
       "      <td>Acworth</td>\n",
       "      <td>Georgia</td>\n",
       "      <td>30101</td>\n",
       "      <td>Solved</td>\n",
       "      <td>No</td>\n",
       "    </tr>\n",
       "  </tbody>\n",
       "</table>\n",
       "</div>"
      ],
      "text/plain": [
       "                                  Customer Complaint      Date  \\\n",
       "0                      Comcast Cable Internet Speeds  22-04-15   \n",
       "1       Payment disappear - service got disconnected  04-08-15   \n",
       "2                                  Speed and Service  18-04-15   \n",
       "3  Comcast Imposed a New Usage Cap of 300GB that ...  05-07-15   \n",
       "4         Comcast not working and no service to boot  26-05-15   \n",
       "\n",
       "  Date_month_year        Received Via      City     State  Zip code  Status  \\\n",
       "0       22-Apr-15  Customer Care Call  Abingdon  Maryland     21009  Closed   \n",
       "1       04-Aug-15            Internet   Acworth   Georgia     30102  Closed   \n",
       "2       18-Apr-15            Internet   Acworth   Georgia     30101  Closed   \n",
       "3       05-Jul-15            Internet   Acworth   Georgia     30101    Open   \n",
       "4       26-May-15            Internet   Acworth   Georgia     30101  Solved   \n",
       "\n",
       "  Filing on Behalf of Someone  \n",
       "0                          No  \n",
       "1                          No  \n",
       "2                         Yes  \n",
       "3                         Yes  \n",
       "4                          No  "
      ]
     },
     "execution_count": 8,
     "metadata": {},
     "output_type": "execute_result"
    }
   ],
   "source": [
    "df.head()"
   ]
  },
  {
   "cell_type": "markdown",
   "id": "065e36cf",
   "metadata": {},
   "source": [
    "# Task-1 Provide the trend chart for the number of complaints at monthly and daily granularity levels."
   ]
  },
  {
   "cell_type": "code",
   "execution_count": 9,
   "id": "71c3b733",
   "metadata": {},
   "outputs": [],
   "source": [
    "#Pandas to_datettime() method helps to convert sting Date time into python Date time object.\n",
    "df['Date_month_year']=df['Date_month_year'].apply(pd.to_datetime)\n",
    "#setting 'Date_month_year' as index \n",
    "df= df.set_index('Date_month_year')"
   ]
  },
  {
   "cell_type": "markdown",
   "id": "855063c5",
   "metadata": {},
   "source": [
    "### plotting monthly chart "
   ]
  },
  {
   "cell_type": "code",
   "execution_count": 10,
   "id": "9f6e33a7",
   "metadata": {},
   "outputs": [
    {
     "data": {
      "text/plain": [
       "Text(0.5, 1.0, 'MONTHLY TREND CHART')"
      ]
     },
     "execution_count": 10,
     "metadata": {},
     "output_type": "execute_result"
    },
    {
     "data": {
      "image/png": "[encoded data removed]",
      "text/plain": [
       "<Figure size 432x288 with 1 Axes>"
      ]
     },
     "metadata": {
      "needs_background": "light"
     },
     "output_type": "display_data"
    }
   ],
   "source": [
    "#datframe.grouby() function is splitting the data into groups according to frequency\n",
    "months= df.groupby(pd.Grouper(freq=\"H\")).size().plot()\n",
    "plt.xlabel(\"MONTHS\")\n",
    "plt.ylabel(\"FREQUENCY\")\n",
    "plt.title(\"MONTHLY TREND CHART\")"
   ]
  },
  {
   "cell_type": "markdown",
   "id": "99e2831d",
   "metadata": {},
   "source": [
    "### Note : In the month of June 2015 the complaints very at maximum"
   ]
  },
  {
   "cell_type": "code",
   "execution_count": 11,
   "id": "401069ee",
   "metadata": {},
   "outputs": [
    {
     "data": {
      "text/plain": [
       "24-06-15    218\n",
       "23-06-15    190\n",
       "25-06-15     98\n",
       "26-06-15     55\n",
       "30-06-15     53\n",
       "29-06-15     51\n",
       "18-06-15     47\n",
       "06-12-15     43\n",
       "Name: Date, dtype: int64"
      ]
     },
     "execution_count": 11,
     "metadata": {},
     "output_type": "execute_result"
    }
   ],
   "source": [
    "#value_counts() function is getting a sreies containing counts of unique values for date column.\n",
    "df['Date'].value_counts(dropna=False)[:8]"
   ]
  },
  {
   "cell_type": "markdown",
   "id": "ff9ee697",
   "metadata": {},
   "source": [
    "### plotting daily chart"
   ]
  },
  {
   "cell_type": "code",
   "execution_count": 12,
   "id": "f8418af2",
   "metadata": {},
   "outputs": [
    {
     "data": {
      "text/plain": [
       "Text(0.5, 1.0, 'DAILY TREND CHART')"
      ]
     },
     "execution_count": 12,
     "metadata": {},
     "output_type": "execute_result"
    },
    {
     "data": {
      "image/png": "[encoded data removed]",
      "text/plain": [
       "<Figure size 432x432 with 1 Axes>"
      ]
     },
     "metadata": {
      "needs_background": "light"
     },
     "output_type": "display_data"
    }
   ],
   "source": [
    "df = df.sort_values(by='Date')\n",
    "plt.figure(figsize=(6,6))\n",
    "df['Date'].value_counts().plot()\n",
    "plt.xlabel(\"Date\")\n",
    "plt.ylabel(\"FREQUENCY\")\n",
    "plt.title(\"DAILY TREND CHART\")"
   ]
  },
  {
   "cell_type": "markdown",
   "id": "89460484",
   "metadata": {},
   "source": [
    "# Provide a table with the frequency of complaint types."
   ]
  },
  {
   "cell_type": "code",
   "execution_count": 13,
   "id": "7f18e750",
   "metadata": {},
   "outputs": [
    {
     "data": {
      "text/plain": [
       "Comcast                     83\n",
       "Comcast Internet            18\n",
       "Comcast Data Cap            17\n",
       "comcast                     13\n",
       "Data Caps                   11\n",
       "Comcast Billing             11\n",
       "Comcast Data Caps           11\n",
       "Unfair Billing Practices     9\n",
       "Comcast data caps            8\n",
       "Name: Customer Complaint, dtype: int64"
      ]
     },
     "execution_count": 13,
     "metadata": {},
     "output_type": "execute_result"
    }
   ],
   "source": [
    "df[('Customer Complaint')].value_counts(dropna = False)[:9]"
   ]
  },
  {
   "cell_type": "code",
   "execution_count": 14,
   "id": "e3578c81",
   "metadata": {},
   "outputs": [
    {
     "data": {
      "text/plain": [
       "<AxesSubplot:>"
      ]
     },
     "execution_count": 14,
     "metadata": {},
     "output_type": "execute_result"
    },
    {
     "data": {
      "image/png": "[encoded data removed]",
      "text/plain": [
       "<Figure size 432x288 with 1 Axes>"
      ]
     },
     "metadata": {
      "needs_background": "light"
     },
     "output_type": "display_data"
    }
   ],
   "source": [
    "df['Customer Complaint'].value_counts(dropna=False)[:9].plot.bar()"
   ]
  },
  {
   "cell_type": "markdown",
   "id": "fb45dc57",
   "metadata": {},
   "source": [
    "# Task -3 Which complaint types are maximum i.e., around internet, network issues, or across any other domains."
   ]
  },
  {
   "cell_type": "code",
   "execution_count": 15,
   "id": "24e66203",
   "metadata": {},
   "outputs": [],
   "source": [
    "internet_issues1=df[df['Customer Complaint'].str.contains(\"network\")].count()"
   ]
  },
  {
   "cell_type": "code",
   "execution_count": 16,
   "id": "14b7a9ce",
   "metadata": {},
   "outputs": [],
   "source": [
    "internet_issues2=df[df['Customer Complaint'].str.contains(\"speed\")].count()"
   ]
  },
  {
   "cell_type": "code",
   "execution_count": 17,
   "id": "6327abdb",
   "metadata": {},
   "outputs": [],
   "source": [
    "internet_issues3=df[df['Customer Complaint'].str.contains(\"data\")].count()"
   ]
  },
  {
   "cell_type": "code",
   "execution_count": 18,
   "id": "9ec7b548",
   "metadata": {},
   "outputs": [],
   "source": [
    "internet_issues4=df[df['Customer Complaint'].str.contains(\"internet\")].count()"
   ]
  },
  {
   "cell_type": "code",
   "execution_count": 19,
   "id": "2a348148",
   "metadata": {},
   "outputs": [],
   "source": [
    "billing_issues1=df[df['Customer Complaint'].str.contains(\"bill\")].count()"
   ]
  },
  {
   "cell_type": "code",
   "execution_count": 20,
   "id": "08556153",
   "metadata": {},
   "outputs": [],
   "source": [
    "billing_issues2=df[df['Customer Complaint'].str.contains(\"billing\")].count()"
   ]
  },
  {
   "cell_type": "code",
   "execution_count": 21,
   "id": "3fa46aea",
   "metadata": {},
   "outputs": [],
   "source": [
    "billing_issues3=df[df['Customer Complaint'].str.contains(\"charges\")].count()"
   ]
  },
  {
   "cell_type": "code",
   "execution_count": 22,
   "id": "20e67692",
   "metadata": {},
   "outputs": [],
   "source": [
    "service_issues1=df[df['Customer Complaint'].str.contains(\"service\")].count()"
   ]
  },
  {
   "cell_type": "code",
   "execution_count": 23,
   "id": "cad3e684",
   "metadata": {},
   "outputs": [],
   "source": [
    "service_issues2=df[df['Customer Complaint'].str.contains(\"customer\")].count()"
   ]
  },
  {
   "cell_type": "code",
   "execution_count": 24,
   "id": "c7119540",
   "metadata": {},
   "outputs": [],
   "source": [
    "total_internet_issues=internet_issues1+internet_issues2+internet_issues3+internet_issues4"
   ]
  },
  {
   "cell_type": "code",
   "execution_count": 25,
   "id": "68f16fee",
   "metadata": {},
   "outputs": [
    {
     "name": "stdout",
     "output_type": "stream",
     "text": [
      "Customer Complaint             374\n",
      "Date                           374\n",
      "Received Via                   374\n",
      "City                           374\n",
      "State                          374\n",
      "Zip code                       374\n",
      "Status                         374\n",
      "Filing on Behalf of Someone    374\n",
      "dtype: int64\n"
     ]
    }
   ],
   "source": [
    "print(total_internet_issues)"
   ]
  },
  {
   "cell_type": "code",
   "execution_count": 26,
   "id": "ca194ea0",
   "metadata": {},
   "outputs": [
    {
     "name": "stdout",
     "output_type": "stream",
     "text": [
      "Customer Complaint             353\n",
      "Date                           353\n",
      "Received Via                   353\n",
      "City                           353\n",
      "State                          353\n",
      "Zip code                       353\n",
      "Status                         353\n",
      "Filing on Behalf of Someone    353\n",
      "dtype: int64\n"
     ]
    }
   ],
   "source": [
    "total_billing_issues = billing_issues1+billing_issues2+billing_issues3\n",
    "print(total_billing_issues)"
   ]
  },
  {
   "cell_type": "code",
   "execution_count": 27,
   "id": "0f00c53b",
   "metadata": {},
   "outputs": [
    {
     "name": "stdout",
     "output_type": "stream",
     "text": [
      "Customer Complaint             360\n",
      "Date                           360\n",
      "Received Via                   360\n",
      "City                           360\n",
      "State                          360\n",
      "Zip code                       360\n",
      "Status                         360\n",
      "Filing on Behalf of Someone    360\n",
      "dtype: int64\n"
     ]
    }
   ],
   "source": [
    "total_service_issues = service_issues1+ service_issues2\n",
    "print(total_service_issues)"
   ]
  },
  {
   "cell_type": "code",
   "execution_count": 28,
   "id": "b3e46712",
   "metadata": {},
   "outputs": [
    {
     "name": "stdout",
     "output_type": "stream",
     "text": [
      "Customer Complaint             1137\n",
      "Date                           1137\n",
      "Received Via                   1137\n",
      "City                           1137\n",
      "State                          1137\n",
      "Zip code                       1137\n",
      "Status                         1137\n",
      "Filing on Behalf of Someone    1137\n",
      "dtype: int64\n"
     ]
    }
   ],
   "source": [
    "other_issues=2224-(total_internet_issues+total_billing_issues+total_service_issues)\n",
    "print(other_issues)"
   ]
  },
  {
   "cell_type": "markdown",
   "id": "ddda8d44",
   "metadata": {},
   "source": [
    "### Note: From the above analysis we can say that other issues are maxmimum"
   ]
  },
  {
   "cell_type": "markdown",
   "id": "853e6d50",
   "metadata": {},
   "source": [
    "# Task-4 Create a new categorical variable with value as Open and Closed. Open & Pending is to be categorized as Open and Closed & Solved is to be categorized as Closed."
   ]
  },
  {
   "cell_type": "code",
   "execution_count": 29,
   "id": "7759dabf",
   "metadata": {},
   "outputs": [
    {
     "data": {
      "text/plain": [
       "array(['Closed', 'Open', 'Solved', 'Pending'], dtype=object)"
      ]
     },
     "execution_count": 29,
     "metadata": {},
     "output_type": "execute_result"
    }
   ],
   "source": [
    "df.Status.unique()"
   ]
  },
  {
   "cell_type": "code",
   "execution_count": 32,
   "id": "5694ee80",
   "metadata": {},
   "outputs": [
    {
     "data": {
      "text/html": [
       "<div>\n",
       "<style scoped>\n",
       "    .dataframe tbody tr th:only-of-type {\n",
       "        vertical-align: middle;\n",
       "    }\n",
       "\n",
       "    .dataframe tbody tr th {\n",
       "        vertical-align: top;\n",
       "    }\n",
       "\n",
       "    .dataframe thead th {\n",
       "        text-align: right;\n",
       "    }\n",
       "</style>\n",
       "<table border=\"1\" class=\"dataframe\">\n",
       "  <thead>\n",
       "    <tr style=\"text-align: right;\">\n",
       "      <th></th>\n",
       "      <th>Customer Complaint</th>\n",
       "      <th>Date</th>\n",
       "      <th>Received Via</th>\n",
       "      <th>City</th>\n",
       "      <th>State</th>\n",
       "      <th>Zip code</th>\n",
       "      <th>Filing on Behalf of Someone</th>\n",
       "      <th>newStatus</th>\n",
       "    </tr>\n",
       "    <tr>\n",
       "      <th>Date_month_year</th>\n",
       "      <th></th>\n",
       "      <th></th>\n",
       "      <th></th>\n",
       "      <th></th>\n",
       "      <th></th>\n",
       "      <th></th>\n",
       "      <th></th>\n",
       "      <th></th>\n",
       "    </tr>\n",
       "  </thead>\n",
       "  <tbody>\n",
       "    <tr>\n",
       "      <th>2015-01-04</th>\n",
       "      <td>Fraudulent claims reported to collections agency</td>\n",
       "      <td>04-01-15</td>\n",
       "      <td>Customer Care Call</td>\n",
       "      <td>Atlanta</td>\n",
       "      <td>Georgia</td>\n",
       "      <td>30312</td>\n",
       "      <td>No</td>\n",
       "      <td>Closed</td>\n",
       "    </tr>\n",
       "    <tr>\n",
       "      <th>2015-01-04</th>\n",
       "      <td>Comcast refusal of service</td>\n",
       "      <td>04-01-15</td>\n",
       "      <td>Customer Care Call</td>\n",
       "      <td>Wayne</td>\n",
       "      <td>Pennsylvania</td>\n",
       "      <td>19087</td>\n",
       "      <td>No</td>\n",
       "      <td>Closed</td>\n",
       "    </tr>\n",
       "    <tr>\n",
       "      <th>2015-01-04</th>\n",
       "      <td>Comcast Cable</td>\n",
       "      <td>04-01-15</td>\n",
       "      <td>Internet</td>\n",
       "      <td>Franklin</td>\n",
       "      <td>Tennessee</td>\n",
       "      <td>37067</td>\n",
       "      <td>No</td>\n",
       "      <td>Closed</td>\n",
       "    </tr>\n",
       "    <tr>\n",
       "      <th>2015-01-04</th>\n",
       "      <td>Data Overages</td>\n",
       "      <td>04-01-15</td>\n",
       "      <td>Internet</td>\n",
       "      <td>Savannah</td>\n",
       "      <td>Georgia</td>\n",
       "      <td>31406</td>\n",
       "      <td>No</td>\n",
       "      <td>Closed</td>\n",
       "    </tr>\n",
       "    <tr>\n",
       "      <th>2015-01-04</th>\n",
       "      <td>Comcast</td>\n",
       "      <td>04-01-15</td>\n",
       "      <td>Internet</td>\n",
       "      <td>North Huntingdon</td>\n",
       "      <td>Pennsylvania</td>\n",
       "      <td>15642</td>\n",
       "      <td>No</td>\n",
       "      <td>Closed</td>\n",
       "    </tr>\n",
       "    <tr>\n",
       "      <th>...</th>\n",
       "      <td>...</td>\n",
       "      <td>...</td>\n",
       "      <td>...</td>\n",
       "      <td>...</td>\n",
       "      <td>...</td>\n",
       "      <td>...</td>\n",
       "      <td>...</td>\n",
       "      <td>...</td>\n",
       "    </tr>\n",
       "    <tr>\n",
       "      <th>2015-05-31</th>\n",
       "      <td>Comcast</td>\n",
       "      <td>31-05-15</td>\n",
       "      <td>Customer Care Call</td>\n",
       "      <td>Beaverton</td>\n",
       "      <td>Oregon</td>\n",
       "      <td>97006</td>\n",
       "      <td>No</td>\n",
       "      <td>Closed</td>\n",
       "    </tr>\n",
       "    <tr>\n",
       "      <th>2015-05-31</th>\n",
       "      <td>Comcast of East Windsor NJ Complaint</td>\n",
       "      <td>31-05-15</td>\n",
       "      <td>Internet</td>\n",
       "      <td>East Windsor</td>\n",
       "      <td>New Jersey</td>\n",
       "      <td>8520</td>\n",
       "      <td>No</td>\n",
       "      <td>Closed</td>\n",
       "    </tr>\n",
       "    <tr>\n",
       "      <th>2015-05-31</th>\n",
       "      <td>n/a (b) (6)</td>\n",
       "      <td>31-05-15</td>\n",
       "      <td>Internet</td>\n",
       "      <td>Loganville</td>\n",
       "      <td>Georgia</td>\n",
       "      <td>30052</td>\n",
       "      <td>No</td>\n",
       "      <td>Closed</td>\n",
       "    </tr>\n",
       "    <tr>\n",
       "      <th>2015-05-31</th>\n",
       "      <td>Complaint against Comcast for incredibly bad s...</td>\n",
       "      <td>31-05-15</td>\n",
       "      <td>Customer Care Call</td>\n",
       "      <td>Edgewood</td>\n",
       "      <td>Washington</td>\n",
       "      <td>98372</td>\n",
       "      <td>No</td>\n",
       "      <td>Closed</td>\n",
       "    </tr>\n",
       "    <tr>\n",
       "      <th>2015-05-31</th>\n",
       "      <td>Questionable internet slowdown</td>\n",
       "      <td>31-05-15</td>\n",
       "      <td>Customer Care Call</td>\n",
       "      <td>Peabody</td>\n",
       "      <td>Massachusetts</td>\n",
       "      <td>1960</td>\n",
       "      <td>No</td>\n",
       "      <td>Closed</td>\n",
       "    </tr>\n",
       "  </tbody>\n",
       "</table>\n",
       "<p>2224 rows × 8 columns</p>\n",
       "</div>"
      ],
      "text/plain": [
       "                                                Customer Complaint      Date  \\\n",
       "Date_month_year                                                                \n",
       "2015-01-04        Fraudulent claims reported to collections agency  04-01-15   \n",
       "2015-01-04                              Comcast refusal of service  04-01-15   \n",
       "2015-01-04                                           Comcast Cable  04-01-15   \n",
       "2015-01-04                                           Data Overages  04-01-15   \n",
       "2015-01-04                                                 Comcast  04-01-15   \n",
       "...                                                            ...       ...   \n",
       "2015-05-31                                                 Comcast  31-05-15   \n",
       "2015-05-31                    Comcast of East Windsor NJ Complaint  31-05-15   \n",
       "2015-05-31                                             n/a (b) (6)  31-05-15   \n",
       "2015-05-31       Complaint against Comcast for incredibly bad s...  31-05-15   \n",
       "2015-05-31                          Questionable internet slowdown  31-05-15   \n",
       "\n",
       "                       Received Via              City          State  \\\n",
       "Date_month_year                                                        \n",
       "2015-01-04       Customer Care Call           Atlanta        Georgia   \n",
       "2015-01-04       Customer Care Call             Wayne   Pennsylvania   \n",
       "2015-01-04                 Internet          Franklin      Tennessee   \n",
       "2015-01-04                 Internet          Savannah        Georgia   \n",
       "2015-01-04                 Internet  North Huntingdon   Pennsylvania   \n",
       "...                             ...               ...            ...   \n",
       "2015-05-31       Customer Care Call         Beaverton         Oregon   \n",
       "2015-05-31                 Internet      East Windsor     New Jersey   \n",
       "2015-05-31                 Internet        Loganville        Georgia   \n",
       "2015-05-31       Customer Care Call          Edgewood     Washington   \n",
       "2015-05-31       Customer Care Call           Peabody  Massachusetts   \n",
       "\n",
       "                 Zip code Filing on Behalf of Someone newStatus  \n",
       "Date_month_year                                                  \n",
       "2015-01-04          30312                          No    Closed  \n",
       "2015-01-04          19087                          No    Closed  \n",
       "2015-01-04          37067                          No    Closed  \n",
       "2015-01-04          31406                          No    Closed  \n",
       "2015-01-04          15642                          No    Closed  \n",
       "...                   ...                         ...       ...  \n",
       "2015-05-31          97006                          No    Closed  \n",
       "2015-05-31           8520                          No    Closed  \n",
       "2015-05-31          30052                          No    Closed  \n",
       "2015-05-31          98372                          No    Closed  \n",
       "2015-05-31           1960                          No    Closed  \n",
       "\n",
       "[2224 rows x 8 columns]"
      ]
     },
     "execution_count": 32,
     "metadata": {},
     "output_type": "execute_result"
    }
   ],
   "source": [
    "df[\"newStatus\"] = [\"Open\" if Status==\"Open\" or Status==\"Pending else\" else \"Closed\" for Status in df[\"Status\"]]\n",
    "df= df.drop(['Status'],axis=1)\n",
    "df"
   ]
  },
  {
   "cell_type": "markdown",
   "id": "d008f3e4",
   "metadata": {},
   "source": [
    "# Task -5 which state has the maximum complaints"
   ]
  },
  {
   "cell_type": "code",
   "execution_count": 34,
   "id": "31803f5e",
   "metadata": {},
   "outputs": [
    {
     "data": {
      "text/plain": [
       "State\n",
       "Georgia       288\n",
       "Florida       240\n",
       "California    220\n",
       "Illinois      164\n",
       "Tennessee     143\n",
       "dtype: int64"
      ]
     },
     "execution_count": 34,
     "metadata": {},
     "output_type": "execute_result"
    }
   ],
   "source": [
    "df.groupby([\"State\"]).size().sort_values(ascending=False)[:5]"
   ]
  },
  {
   "cell_type": "markdown",
   "id": "292ffc7b",
   "metadata": {},
   "source": [
    "### Note :Georgia has the maximum complaints "
   ]
  },
  {
   "cell_type": "markdown",
   "id": "d9ba5347",
   "metadata": {},
   "source": [
    "# Task-6 Provide state wise status of complaints in a stacked bar chart."
   ]
  },
  {
   "cell_type": "code",
   "execution_count": 36,
   "id": "5e2e6dee",
   "metadata": {},
   "outputs": [
    {
     "name": "stdout",
     "output_type": "stream",
     "text": [
      "newStatus             Closed  Open\n",
      "State                             \n",
      "Alabama                 22.0   4.0\n",
      "Arizona                 18.0   2.0\n",
      "Arkansas                 6.0   NaN\n",
      "California             173.0  47.0\n",
      "Colorado                68.0  12.0\n",
      "Connecticut             10.0   2.0\n",
      "Delaware                 9.0   3.0\n",
      "District Of Columbia    15.0   1.0\n",
      "District of Columbia     1.0   NaN\n",
      "Florida                205.0  35.0\n",
      "Georgia                253.0  35.0\n",
      "Illinois               141.0  23.0\n",
      "Indiana                 51.0   8.0\n",
      "Iowa                     1.0   NaN\n",
      "Kansas                   2.0   NaN\n",
      "Kentucky                 7.0   NaN\n",
      "Louisiana               13.0   NaN\n",
      "Maine                    3.0   2.0\n",
      "Maryland                65.0  13.0\n",
      "Massachusetts           51.0  10.0\n",
      "Michigan                97.0  18.0\n",
      "Minnesota               31.0   2.0\n",
      "Mississippi             30.0   9.0\n",
      "Missouri                 3.0   1.0\n",
      "Montana                  1.0   NaN\n",
      "Nevada                   1.0   NaN\n",
      "New Hampshire            9.0   3.0\n",
      "New Jersey              58.0  17.0\n",
      "New Mexico              12.0   3.0\n",
      "New York                 6.0   NaN\n",
      "North Carolina           3.0   NaN\n",
      "Ohio                     3.0   NaN\n",
      "Oregon                  39.0  10.0\n",
      "Pennsylvania           116.0  14.0\n",
      "Rhode Island             1.0   NaN\n",
      "South Carolina          16.0   2.0\n",
      "Tennessee              110.0  33.0\n",
      "Texas                   53.0  18.0\n",
      "Utah                    16.0   6.0\n",
      "Vermont                  2.0   1.0\n",
      "Virginia                52.0   8.0\n",
      "Washington              80.0  18.0\n",
      "West Virginia            8.0   3.0\n"
     ]
    }
   ],
   "source": [
    "Status_complaints = df.groupby([\"State\",\"newStatus\"]).size().unstack()\n",
    "print(Status_complaints)"
   ]
  },
  {
   "cell_type": "code",
   "execution_count": 37,
   "id": "cb624a03",
   "metadata": {},
   "outputs": [
    {
     "data": {
      "text/plain": [
       "<AxesSubplot:xlabel='State'>"
      ]
     },
     "execution_count": 37,
     "metadata": {},
     "output_type": "execute_result"
    },
    {
     "data": {
      "image/png": "[encoded data removed]",
      "text/plain": [
       "<Figure size 720x720 with 1 Axes>"
      ]
     },
     "metadata": {
      "needs_background": "light"
     },
     "output_type": "display_data"
    }
   ],
   "source": [
    "Status_complaints.plot.bar(figsize=(10,10), stacked=True)"
   ]
  },
  {
   "cell_type": "markdown",
   "id": "4bfb1b66",
   "metadata": {},
   "source": [
    "# Task -7 State which has the highest percentage of unresolved complaints"
   ]
  },
  {
   "cell_type": "code",
   "execution_count": 38,
   "id": "298507e9",
   "metadata": {},
   "outputs": [
    {
     "name": "stdout",
     "output_type": "stream",
     "text": [
      "Closed    1861\n",
      "Open       363\n",
      "Name: newStatus, dtype: int64\n"
     ]
    }
   ],
   "source": [
    "print(df[\"newStatus\"].value_counts())"
   ]
  },
  {
   "cell_type": "code",
   "execution_count": 40,
   "id": "9238860f",
   "metadata": {},
   "outputs": [
    {
     "name": "stdout",
     "output_type": "stream",
     "text": [
      "newStatus             Closed  Open  Unresolved_cmp_prct\n",
      "State                                                  \n",
      "California             173.0  47.0            12.947658\n",
      "Georgia                253.0  35.0             9.641873\n",
      "Florida                205.0  35.0             9.641873\n",
      "Tennessee              110.0  33.0             9.090909\n",
      "Illinois               141.0  23.0             6.336088\n",
      "Texas                   53.0  18.0             4.958678\n",
      "Michigan                97.0  18.0             4.958678\n",
      "Washington              80.0  18.0             4.958678\n",
      "New Jersey              58.0  17.0             4.683196\n",
      "Pennsylvania           116.0  14.0             3.856749\n",
      "Maryland                65.0  13.0             3.581267\n",
      "Colorado                68.0  12.0             3.305785\n",
      "Oregon                  39.0  10.0             2.754821\n",
      "Massachusetts           51.0  10.0             2.754821\n",
      "Mississippi             30.0   9.0             2.479339\n",
      "Virginia                52.0   8.0             2.203857\n",
      "Indiana                 51.0   8.0             2.203857\n",
      "Utah                    16.0   6.0             1.652893\n",
      "Alabama                 22.0   4.0             1.101928\n",
      "New Mexico              12.0   3.0             0.826446\n",
      "New Hampshire            9.0   3.0             0.826446\n",
      "West Virginia            8.0   3.0             0.826446\n",
      "Delaware                 9.0   3.0             0.826446\n",
      "Arizona                 18.0   2.0             0.550964\n",
      "South Carolina          16.0   2.0             0.550964\n",
      "Connecticut             10.0   2.0             0.550964\n",
      "Minnesota               31.0   2.0             0.550964\n",
      "Maine                    3.0   2.0             0.550964\n",
      "Missouri                 3.0   1.0             0.275482\n",
      "District Of Columbia    15.0   1.0             0.275482\n",
      "Vermont                  2.0   1.0             0.275482\n",
      "Louisiana               13.0   0.0             0.000000\n",
      "Kentucky                 7.0   0.0             0.000000\n",
      "New York                 6.0   0.0             0.000000\n",
      "North Carolina           3.0   0.0             0.000000\n",
      "Ohio                     3.0   0.0             0.000000\n",
      "Iowa                     1.0   0.0             0.000000\n",
      "Rhode Island             1.0   0.0             0.000000\n",
      "District of Columbia     1.0   0.0             0.000000\n",
      "Nevada                   1.0   0.0             0.000000\n",
      "Montana                  1.0   0.0             0.000000\n",
      "Arkansas                 6.0   0.0             0.000000\n",
      "Kansas                   2.0   0.0             0.000000\n"
     ]
    },
    {
     "data": {
      "text/plain": [
       "<AxesSubplot:xlabel='State'>"
      ]
     },
     "execution_count": 40,
     "metadata": {},
     "output_type": "execute_result"
    },
    {
     "data": {
      "image/png": "[encoded data removed]",
      "text/plain": [
       "<Figure size 432x288 with 1 Axes>"
      ]
     },
     "metadata": {
      "needs_background": "light"
     },
     "output_type": "display_data"
    }
   ],
   "source": [
    "unresolved_data = df.groupby([\"State\",\"newStatus\"]).size().unstack().fillna(0).sort_values(by='Open',ascending=False)\n",
    "unresolved_data['Unresolved_cmp_prct'] = unresolved_data['Open']/unresolved_data['Open'].sum()*100\n",
    "print(unresolved_data)\n",
    "unresolved_data.plot()"
   ]
  },
  {
   "cell_type": "markdown",
   "id": "b35fe820",
   "metadata": {},
   "source": [
    "### Note : From the table generated above we can see that Georgia has maximum unresolved complaints i.e.80"
   ]
  },
  {
   "cell_type": "markdown",
   "id": "7025cfec",
   "metadata": {},
   "source": [
    "# Task -8 Provide the percentage of complaints resolved till date, which were received through the internet and the customer care calls "
   ]
  },
  {
   "cell_type": "code",
   "execution_count": 44,
   "id": "b8f6b615",
   "metadata": {},
   "outputs": [
    {
     "data": {
      "text/plain": [
       "Received Via\n",
       "Customer Care Call    50.134336\n",
       "Internet              49.865664\n",
       "Name: resolved, dtype: float64"
      ]
     },
     "execution_count": 44,
     "metadata": {},
     "output_type": "execute_result"
    }
   ],
   "source": [
    "resolved_data = df.groupby(['Received Via','newStatus']).size().unstack().fillna(0)\n",
    "resolved_data['resolved'] = resolved_data['Closed']/resolved_data['Closed'].sum()*100\n",
    "resolved_data['resolved']"
   ]
  },
  {
   "cell_type": "code",
   "execution_count": 43,
   "id": "1cebd75f",
   "metadata": {},
   "outputs": [
    {
     "data": {
      "text/plain": [
       "<AxesSubplot:xlabel='Received Via'>"
      ]
     },
     "execution_count": 43,
     "metadata": {},
     "output_type": "execute_result"
    },
    {
     "data": {
      "image/png": "[encoded data removed]",
      "text/plain": [
       "<Figure size 576x576 with 1 Axes>"
      ]
     },
     "metadata": {
      "needs_background": "light"
     },
     "output_type": "display_data"
    }
   ],
   "source": [
    "resolved_data.plot(kind=\"bar\", figsize=(8,8))"
   ]
  },
  {
   "cell_type": "markdown",
   "id": "a3d84142",
   "metadata": {},
   "source": [
    "## Note : From the above pie chart we can say that there are total 50.61% complaints resolved for Customer Care Cell and 49.39% for received via internet."
   ]
  },
  {
   "cell_type": "code",
   "execution_count": 1,
   "id": "3ba51910",
   "metadata": {},
   "outputs": [
    {
     "name": "stdout",
     "output_type": "stream",
     "text": [
      "Requirement already satisfied: nbconvert in c:\\users\\win10\\anaconda3\\lib\\site-packages (6.1.0)\n",
      "Requirement already satisfied: jupyterlab-pygments in c:\\users\\win10\\anaconda3\\lib\\site-packages (from nbconvert) (0.1.2)\n",
      "Requirement already satisfied: traitlets>=5.0 in c:\\users\\win10\\anaconda3\\lib\\site-packages (from nbconvert) (5.1.0)\n",
      "Requirement already satisfied: entrypoints>=0.2.2 in c:\\users\\win10\\anaconda3\\lib\\site-packages (from nbconvert) (0.3)\n",
      "Requirement already satisfied: nbclient<0.6.0,>=0.5.0 in c:\\users\\win10\\anaconda3\\lib\\site-packages (from nbconvert) (0.5.3)\n",
      "Requirement already satisfied: nbformat>=4.4 in c:\\users\\win10\\anaconda3\\lib\\site-packages (from nbconvert) (5.1.3)\n",
      "Requirement already satisfied: testpath in c:\\users\\win10\\anaconda3\\lib\\site-packages (from nbconvert) (0.5.0)\n",
      "Requirement already satisfied: defusedxml in c:\\users\\win10\\anaconda3\\lib\\site-packages (from nbconvert) (0.7.1)\n",
      "Requirement already satisfied: mistune<2,>=0.8.1 in c:\\users\\win10\\anaconda3\\lib\\site-packages (from nbconvert) (0.8.4)\n",
      "Requirement already satisfied: pygments>=2.4.1 in c:\\users\\win10\\anaconda3\\lib\\site-packages (from nbconvert) (2.10.0)\n",
      "Requirement already satisfied: pandocfilters>=1.4.1 in c:\\users\\win10\\anaconda3\\lib\\site-packages (from nbconvert) (1.4.3)\n",
      "Requirement already satisfied: jupyter-core in c:\\users\\win10\\anaconda3\\lib\\site-packages (from nbconvert) (4.8.1)\n",
      "Requirement already satisfied: bleach in c:\\users\\win10\\anaconda3\\lib\\site-packages (from nbconvert) (4.0.0)\n",
      "Requirement already satisfied: jinja2>=2.4 in c:\\users\\win10\\anaconda3\\lib\\site-packages (from nbconvert) (2.11.3)\n",
      "Requirement already satisfied: MarkupSafe>=0.23 in c:\\users\\win10\\anaconda3\\lib\\site-packages (from jinja2>=2.4->nbconvert) (1.1.1)\n",
      "Requirement already satisfied: async-generator in c:\\users\\win10\\anaconda3\\lib\\site-packages (from nbclient<0.6.0,>=0.5.0->nbconvert) (1.10)\n",
      "Requirement already satisfied: jupyter-client>=6.1.5 in c:\\users\\win10\\anaconda3\\lib\\site-packages (from nbclient<0.6.0,>=0.5.0->nbconvert) (6.1.12)\n",
      "Requirement already satisfied: nest-asyncio in c:\\users\\win10\\anaconda3\\lib\\site-packages (from nbclient<0.6.0,>=0.5.0->nbconvert) (1.5.1)\n",
      "Requirement already satisfied: pyzmq>=13 in c:\\users\\win10\\anaconda3\\lib\\site-packages (from jupyter-client>=6.1.5->nbclient<0.6.0,>=0.5.0->nbconvert) (22.2.1)\n",
      "Requirement already satisfied: tornado>=4.1 in c:\\users\\win10\\anaconda3\\lib\\site-packages (from jupyter-client>=6.1.5->nbclient<0.6.0,>=0.5.0->nbconvert) (6.1)\n",
      "Requirement already satisfied: python-dateutil>=2.1 in c:\\users\\win10\\anaconda3\\lib\\site-packages (from jupyter-client>=6.1.5->nbclient<0.6.0,>=0.5.0->nbconvert) (2.8.2)\n",
      "Note: you may need to restart the kernel to use updated packages.\n",
      "Requirement already satisfied: pywin32>=1.0 in c:\\users\\win10\\anaconda3\\lib\\site-packages (from jupyter-core->nbconvert) (228)\n",
      "Requirement already satisfied: jsonschema!=2.5.0,>=2.4 in c:\\users\\win10\\anaconda3\\lib\\site-packages (from nbformat>=4.4->nbconvert) (3.2.0)\n",
      "Requirement already satisfied: ipython-genutils in c:\\users\\win10\\anaconda3\\lib\\site-packages (from nbformat>=4.4->nbconvert) (0.2.0)\n",
      "Requirement already satisfied: six>=1.11.0 in c:\\users\\win10\\anaconda3\\lib\\site-packages (from jsonschema!=2.5.0,>=2.4->nbformat>=4.4->nbconvert) (1.16.0)\n",
      "Requirement already satisfied: attrs>=17.4.0 in c:\\users\\win10\\anaconda3\\lib\\site-packages (from jsonschema!=2.5.0,>=2.4->nbformat>=4.4->nbconvert) (21.2.0)\n",
      "Requirement already satisfied: setuptools in c:\\users\\win10\\anaconda3\\lib\\site-packages (from jsonschema!=2.5.0,>=2.4->nbformat>=4.4->nbconvert) (58.0.4)\n",
      "Requirement already satisfied: pyrsistent>=0.14.0 in c:\\users\\win10\\anaconda3\\lib\\site-packages (from jsonschema!=2.5.0,>=2.4->nbformat>=4.4->nbconvert) (0.18.0)\n",
      "Requirement already satisfied: webencodings in c:\\users\\win10\\anaconda3\\lib\\site-packages (from bleach->nbconvert) (0.5.1)\n",
      "Requirement already satisfied: packaging in c:\\users\\win10\\anaconda3\\lib\\site-packages (from bleach->nbconvert) (21.0)\n",
      "Requirement already satisfied: pyparsing>=2.0.2 in c:\\users\\win10\\anaconda3\\lib\\site-packages (from packaging->bleach->nbconvert) (3.0.4)\n"
     ]
    }
   ],
   "source": []
  },
  {
   "cell_type": "code",
   "execution_count": 2,
   "id": "4500f883",
   "metadata": {},
   "outputs": [
    {
     "name": "stdout",
     "output_type": "stream",
     "text": [
      "Collecting pyppeteer\n",
      "  Downloading pyppeteer-1.0.2-py3-none-any.whl (83 kB)\n",
      "Collecting pyee<9.0.0,>=8.1.0\n",
      "  Downloading pyee-8.2.2-py2.py3-none-any.whl (12 kB)\n",
      "Requirement already satisfied: certifi>=2021 in c:\\users\\win10\\anaconda3\\lib\\site-packages (from pyppeteer) (2021.10.8)\n",
      "Collecting websockets<11.0,>=10.0\n",
      "  Downloading websockets-10.3-cp39-cp39-win_amd64.whl (98 kB)\n",
      "Requirement already satisfied: importlib-metadata>=1.4 in c:\\users\\win10\\anaconda3\\lib\\site-packages (from pyppeteer) (4.8.1)\n",
      "Requirement already satisfied: urllib3<2.0.0,>=1.25.8 in c:\\users\\win10\\anaconda3\\lib\\site-packages (from pyppeteer) (1.26.7)\n",
      "Requirement already satisfied: tqdm<5.0.0,>=4.42.1 in c:\\users\\win10\\anaconda3\\lib\\site-packages (from pyppeteer) (4.62.3)\n",
      "Requirement already satisfied: appdirs<2.0.0,>=1.4.3 in c:\\users\\win10\\anaconda3\\lib\\site-packages (from pyppeteer) (1.4.4)\n",
      "Requirement already satisfied: zipp>=0.5 in c:\\users\\win10\\anaconda3\\lib\\site-packages (from importlib-metadata>=1.4->pyppeteer) (3.6.0)\n",
      "Requirement already satisfied: colorama in c:\\users\\win10\\anaconda3\\lib\\site-packages (from tqdm<5.0.0,>=4.42.1->pyppeteer) (0.4.4)\n",
      "Installing collected packages: websockets, pyee, pyppeteer\n",
      "Successfully installed pyee-8.2.2 pyppeteer-1.0.2 websockets-10.3\n",
      "Note: you may need to restart the kernel to use updated packages.\n"
     ]
    }
   ],
   "source": []
  },
  {
   "cell_type": "code",
   "execution_count": null,
   "id": "e06bb226",
   "metadata": {},
   "outputs": [],
   "source": []
  }
 ],
 "metadata": {
  "kernelspec": {
   "display_name": "Python 3 (ipykernel)",
   "language": "python",
   "name": "python3"
  },
  "language_info": {
   "codemirror_mode": {
    "name": "ipython",
    "version": 3
   },
   "file_extension": ".py",
   "mimetype": "text/x-python",
   "name": "python",
   "nbconvert_exporter": "python",
   "pygments_lexer": "ipython3",
   "version": "3.9.7"
  }
 },
 "nbformat": 4,
 "nbformat_minor": 5
}
